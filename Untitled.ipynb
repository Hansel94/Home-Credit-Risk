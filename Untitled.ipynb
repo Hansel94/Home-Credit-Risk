{
 "cells": [
  {
   "cell_type": "code",
   "execution_count": 2,
   "id": "d81f5372-2a62-4629-9ccf-2e8e4665215a",
   "metadata": {},
   "outputs": [],
   "source": [
    "import pandas as pd\n",
    "import numpy as np\n",
    "\n",
    "app_test = pd.read_csv('dataset/application_test_aai.csv')\n",
    "app_train = pd.read_csv('dataset/application_train_aai.csv')\n",
    "column_description = pd.read_csv('dataset/HomeCredit_columns_description.csv')"
   ]
  },
  {
   "cell_type": "code",
   "execution_count": 1,
   "id": "3e16cb3b-0e55-4f74-a43f-db6f79d6adfd",
   "metadata": {},
   "outputs": [
    {
     "data": {
      "text/plain": [
       "'1.2.1'"
      ]
     },
     "execution_count": 1,
     "metadata": {},
     "output_type": "execute_result"
    }
   ],
   "source": [
    "import sklearn\n",
    "\n",
    "sklearn.__version__"
   ]
  },
  {
   "cell_type": "code",
   "execution_count": null,
   "id": "e4ef10aa-7d15-4c51-8bbe-9c99488170fd",
   "metadata": {},
   "outputs": [],
   "source": []
  },
  {
   "cell_type": "code",
   "execution_count": 3,
   "id": "45d60af4-2b39-4558-b379-ca2e99be83f9",
   "metadata": {
    "tags": []
   },
   "outputs": [],
   "source": [
    "df_cat = app_train.select_dtypes(object)\n",
    "bin_cols = []\n",
    "multilabel_cols = []\n",
    "for column in df_cat.columns:\n",
    "    if df_cat[column].value_counts().count() == 2:\n",
    "        bin_cols.append(column)\n",
    "    else:\n",
    "        multilabel_cols.append(column)"
   ]
  },
  {
   "cell_type": "code",
   "execution_count": 4,
   "id": "c2db4217-0a4d-4d20-be4f-8607559e8266",
   "metadata": {},
   "outputs": [],
   "source": [
    "from sklearn.preprocessing import OrdinalEncoder, OneHotEncoder\n",
    "from sklearn.model_selection import train_test_split\n",
    "from sklearn.compose import ColumnTransformer"
   ]
  },
  {
   "cell_type": "code",
   "execution_count": 5,
   "id": "894c9469-9f6e-45cc-9682-5eb32b9fd113",
   "metadata": {},
   "outputs": [],
   "source": [
    "train_df = app_train.drop(\"TARGET\", axis=1)\n",
    "train_y = app_train[\"TARGET\"]"
   ]
  },
  {
   "cell_type": "code",
   "execution_count": 15,
   "id": "1f780841-7454-41cd-b61b-618934962703",
   "metadata": {},
   "outputs": [],
   "source": [
    "X_train, X_val, y_train, y_val = train_test_split(train_df, train_y, test_size = 0.2, random_state=42, shuffle=True)"
   ]
  },
  {
   "cell_type": "code",
   "execution_count": 32,
   "id": "db2ed2f9-dace-430d-9447-8c064ef74db6",
   "metadata": {
    "tags": []
   },
   "outputs": [],
   "source": [
    "X_test = app_test.drop('TARGET', axis=1)\n",
    "y_test = app_test['TARGET']"
   ]
  },
  {
   "cell_type": "code",
   "execution_count": null,
   "id": "2e7ef1a9-2068-4fca-bb83-b3b51687f95f",
   "metadata": {},
   "outputs": [],
   "source": []
  },
  {
   "cell_type": "code",
   "execution_count": 12,
   "id": "f0d5cf70-be56-47b2-bb43-d3ab92db5045",
   "metadata": {},
   "outputs": [],
   "source": [
    "bin_enc = OrdinalEncoder(handle_unknown='use_encoded_value', unknown_value=np.nan)\n",
    "one_hot = OneHotEncoder(handle_unknown='ignore')\n",
    "transformer=ColumnTransformer([('bin_enc', bin_enc, bin_cols),\n",
    "                               ('one_hot', one_hot, multilabel_cols)],\n",
    "                                remainder='passthrough')"
   ]
  },
  {
   "cell_type": "code",
   "execution_count": 25,
   "id": "1965c816-5c03-4e35-8414-cedbaf957a35",
   "metadata": {},
   "outputs": [
    {
     "data": {
      "text/plain": [
       "array([[0., 0., 1., ..., 0., 1., 2.],\n",
       "       [0., 1., 0., ..., 1., 0., 2.],\n",
       "       [1., 0., 1., ..., 2., 0., 1.],\n",
       "       ...,\n",
       "       [0., 1., 1., ..., 1., 1., 1.],\n",
       "       [0., 0., 1., ..., 1., 0., 2.],\n",
       "       [0., 0., 0., ..., 0., 0., 0.]])"
      ]
     },
     "execution_count": 25,
     "metadata": {},
     "output_type": "execute_result"
    }
   ],
   "source": [
    "X_val = transformer.transform(X_val)\n",
    "X_val"
   ]
  },
  {
   "cell_type": "code",
   "execution_count": 34,
   "id": "ead64d88",
   "metadata": {},
   "outputs": [
    {
     "data": {
      "text/plain": [
       "array([[0., 0., 1., ..., 0., 0., 0.],\n",
       "       [0., 1., 1., ..., 0., 0., 5.],\n",
       "       [0., 1., 1., ..., 0., 2., 3.],\n",
       "       ...,\n",
       "       [0., 1., 0., ..., 0., 1., 0.],\n",
       "       [0., 1., 1., ..., 1., 0., 2.],\n",
       "       [0., 0., 1., ..., 0., 0., 8.]])"
      ]
     },
     "execution_count": 34,
     "metadata": {},
     "output_type": "execute_result"
    }
   ],
   "source": [
    "X_test = transformer.transform(X_test)\n",
    "X_test"
   ]
  },
  {
   "cell_type": "code",
   "execution_count": 16,
   "id": "a6bda8bc-3d83-4cf5-8b49-7a50faeb6896",
   "metadata": {},
   "outputs": [
    {
     "data": {
      "text/plain": [
       "array([[0., 1., 0., ..., 0., 1., 6.],\n",
       "       [0., 0., 0., ..., 1., 0., 1.],\n",
       "       [0., 0., 0., ..., 1., 0., 1.],\n",
       "       ...,\n",
       "       [0., 1., 0., ..., 0., 0., 2.],\n",
       "       [0., 1., 1., ..., 0., 1., 0.],\n",
       "       [0., 0., 1., ..., 0., 0., 5.]])"
      ]
     },
     "execution_count": 16,
     "metadata": {},
     "output_type": "execute_result"
    }
   ],
   "source": [
    "X_train = transformer.fit_transform(X_train)\n",
    "X_train"
   ]
  },
  {
   "cell_type": "code",
   "execution_count": 35,
   "id": "11f4f566-1459-4c5c-af92-1b870be00e96",
   "metadata": {},
   "outputs": [],
   "source": [
    "df = pd.DataFrame(X_train)\n",
    "df_val = pd.DataFrame(X_val)\n",
    "df_test = pd.DataFrame(X_test)"
   ]
  },
  {
   "cell_type": "code",
   "execution_count": 36,
   "id": "f9ac4cb8-fccb-41a0-a9cc-54cdfb2304c0",
   "metadata": {},
   "outputs": [
    {
     "data": {
      "text/plain": [
       "((196806, 246), (49202, 246), (61503, 246))"
      ]
     },
     "execution_count": 36,
     "metadata": {},
     "output_type": "execute_result"
    }
   ],
   "source": [
    "df.shape, df_val.shape, df_test.shape"
   ]
  },
  {
   "cell_type": "code",
   "execution_count": 37,
   "id": "c994425c-0b54-45ea-aeb3-f922956cd443",
   "metadata": {},
   "outputs": [
    {
     "data": {
      "text/plain": [
       "array([[0., 1., 0., ..., 0., 1., 6.],\n",
       "       [0., 0., 0., ..., 1., 0., 1.],\n",
       "       [0., 0., 0., ..., 1., 0., 1.],\n",
       "       ...,\n",
       "       [0., 1., 0., ..., 0., 0., 2.],\n",
       "       [0., 1., 1., ..., 0., 1., 0.],\n",
       "       [0., 0., 1., ..., 0., 0., 5.]])"
      ]
     },
     "execution_count": 37,
     "metadata": {},
     "output_type": "execute_result"
    }
   ],
   "source": [
    "from sklearn.impute import SimpleImputer\n",
    "\n",
    "imp = SimpleImputer(strategy='median')\n",
    "X_train = imp.fit_transform( X_train )\n",
    "X_train"
   ]
  },
  {
   "cell_type": "code",
   "execution_count": 41,
   "id": "1d99826d-ece1-439e-b353-a4bd62f3cd3f",
   "metadata": {},
   "outputs": [],
   "source": [
    "X_val = imp.transform(X_val)\n",
    "X_test = imp.transform(X_test)"
   ]
  },
  {
   "cell_type": "code",
   "execution_count": 42,
   "id": "286ab757-7be8-450c-acd5-e18201675921",
   "metadata": {},
   "outputs": [],
   "source": [
    "df = pd.DataFrame(X_train)\n",
    "df_val = pd.DataFrame(X_val)\n",
    "df_test = pd.DataFrame(X_test)"
   ]
  },
  {
   "cell_type": "code",
   "execution_count": 43,
   "id": "e5b1a771",
   "metadata": {},
   "outputs": [
    {
     "data": {
      "text/plain": [
       "0"
      ]
     },
     "execution_count": 43,
     "metadata": {},
     "output_type": "execute_result"
    }
   ],
   "source": [
    "df_val.isna().sum().sum()"
   ]
  },
  {
   "cell_type": "code",
   "execution_count": 44,
   "id": "462ac1ea",
   "metadata": {},
   "outputs": [
    {
     "data": {
      "text/plain": [
       "0"
      ]
     },
     "execution_count": 44,
     "metadata": {},
     "output_type": "execute_result"
    }
   ],
   "source": [
    "df_test.isna().sum().sum()"
   ]
  },
  {
   "cell_type": "code",
   "execution_count": 45,
   "id": "6592fd8f",
   "metadata": {},
   "outputs": [
    {
     "data": {
      "text/plain": [
       "array([[0.        , 1.        , 0.        , ..., 0.        , 0.05263158,\n",
       "        0.24      ],\n",
       "       [0.        , 0.        , 0.        , ..., 0.03703704, 0.        ,\n",
       "        0.04      ],\n",
       "       [0.        , 0.        , 0.        , ..., 0.03703704, 0.        ,\n",
       "        0.04      ],\n",
       "       ...,\n",
       "       [0.        , 1.        , 0.        , ..., 0.        , 0.        ,\n",
       "        0.08      ],\n",
       "       [0.        , 1.        , 1.        , ..., 0.        , 0.05263158,\n",
       "        0.        ],\n",
       "       [0.        , 0.        , 1.        , ..., 0.        , 0.        ,\n",
       "        0.2       ]])"
      ]
     },
     "execution_count": 45,
     "metadata": {},
     "output_type": "execute_result"
    }
   ],
   "source": [
    "from sklearn.preprocessing import MinMaxScaler\n",
    "\n",
    "scaler = MinMaxScaler()\n",
    "X_train = scaler.fit_transform(X_train)\n",
    "X_train"
   ]
  },
  {
   "cell_type": "code",
   "execution_count": 47,
   "id": "a0dcd62d",
   "metadata": {},
   "outputs": [
    {
     "data": {
      "text/plain": [
       "(1.0, 0.0)"
      ]
     },
     "execution_count": 47,
     "metadata": {},
     "output_type": "execute_result"
    }
   ],
   "source": [
    "np.max(X_train), np.min(X_train)"
   ]
  },
  {
   "cell_type": "code",
   "execution_count": 48,
   "id": "c38d4d51",
   "metadata": {},
   "outputs": [
    {
     "data": {
      "text/plain": [
       "[(1.0104807473228525, -0.0028756290438534116),\n",
       " (13.736842105263158, -0.02851665468487896)]"
      ]
     },
     "execution_count": 48,
     "metadata": {},
     "output_type": "execute_result"
    }
   ],
   "source": [
    "X_val = scaler.transform(X_val)\n",
    "X_test = scaler.transform(X_test)\n",
    "[(np.max(X_val), np.min(X_val)), (np.max(X_test), np.min(X_test))]"
   ]
  },
  {
   "cell_type": "code",
   "execution_count": 49,
   "id": "8cb8eef3",
   "metadata": {},
   "outputs": [
    {
     "data": {
      "text/plain": [
       "array([[0.        , 0.        , 1.        , ..., 0.        , 0.05263158,\n",
       "        0.08      ],\n",
       "       [0.        , 1.        , 0.        , ..., 0.03703704, 0.        ,\n",
       "        0.08      ],\n",
       "       [1.        , 0.        , 1.        , ..., 0.07407407, 0.        ,\n",
       "        0.04      ],\n",
       "       ...,\n",
       "       [0.        , 1.        , 1.        , ..., 0.03703704, 0.05263158,\n",
       "        0.04      ],\n",
       "       [0.        , 0.        , 1.        , ..., 0.03703704, 0.        ,\n",
       "        0.08      ],\n",
       "       [0.        , 0.        , 0.        , ..., 0.        , 0.        ,\n",
       "        0.        ]])"
      ]
     },
     "execution_count": 49,
     "metadata": {},
     "output_type": "execute_result"
    }
   ],
   "source": [
    "X_val"
   ]
  },
  {
   "cell_type": "code",
   "execution_count": 51,
   "id": "c95304f5",
   "metadata": {},
   "outputs": [
    {
     "data": {
      "text/plain": [
       "13.736842105263158"
      ]
     },
     "execution_count": 51,
     "metadata": {},
     "output_type": "execute_result"
    }
   ],
   "source": [
    "np.max(X_test)"
   ]
  },
  {
   "cell_type": "code",
   "execution_count": null,
   "id": "2628eec1",
   "metadata": {},
   "outputs": [],
   "source": []
  }
 ],
 "metadata": {
  "kernelspec": {
   "display_name": "Python 3 (ipykernel)",
   "language": "python",
   "name": "python3"
  },
  "language_info": {
   "codemirror_mode": {
    "name": "ipython",
    "version": 3
   },
   "file_extension": ".py",
   "mimetype": "text/x-python",
   "name": "python",
   "nbconvert_exporter": "python",
   "pygments_lexer": "ipython3",
   "version": "3.9.7"
  }
 },
 "nbformat": 4,
 "nbformat_minor": 5
}
